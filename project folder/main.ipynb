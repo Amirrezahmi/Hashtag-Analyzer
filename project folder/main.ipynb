{
  "cells": [
    {
      "cell_type": "markdown",
      "metadata": {
        "id": "t5Oo3134WHdu"
      },
      "source": []
    },
    {
      "cell_type": "code",
      "execution_count": 1,
      "metadata": {
        "id": "_M1gkU93WIcx",
        "colab": {
          "base_uri": "https://localhost:8080/"
        },
        "outputId": "ad9359ff-8fa1-43a8-bc15-c248e6a10482"
      },
      "outputs": [
        {
          "output_type": "stream",
          "name": "stdout",
          "text": [
            "Looking in indexes: https://pypi.org/simple, https://us-python.pkg.dev/colab-wheels/public/simple/\n",
            "Requirement already satisfied: nltk in /usr/local/lib/python3.10/dist-packages (3.8.1)\n",
            "Requirement already satisfied: click in /usr/local/lib/python3.10/dist-packages (from nltk) (8.1.3)\n",
            "Requirement already satisfied: joblib in /usr/local/lib/python3.10/dist-packages (from nltk) (1.2.0)\n",
            "Requirement already satisfied: regex>=2021.8.3 in /usr/local/lib/python3.10/dist-packages (from nltk) (2022.10.31)\n",
            "Requirement already satisfied: tqdm in /usr/local/lib/python3.10/dist-packages (from nltk) (4.65.0)\n"
          ]
        }
      ],
      "source": [
        "!pip install nltk"
      ]
    },
    {
      "cell_type": "code",
      "source": [
        "import nltk\n",
        "nltk.download('stopwords')\n",
        "nltk.download('averaged_perceptron_tagger')"
      ],
      "metadata": {
        "colab": {
          "base_uri": "https://localhost:8080/"
        },
        "id": "2_vviZJxc42g",
        "outputId": "d9767eb2-21c8-493c-c0d5-c12c512287fa"
      },
      "execution_count": 2,
      "outputs": [
        {
          "output_type": "stream",
          "name": "stderr",
          "text": [
            "[nltk_data] Downloading package stopwords to /root/nltk_data...\n",
            "[nltk_data]   Unzipping corpora/stopwords.zip.\n",
            "[nltk_data] Downloading package averaged_perceptron_tagger to\n",
            "[nltk_data]     /root/nltk_data...\n",
            "[nltk_data]   Unzipping taggers/averaged_perceptron_tagger.zip.\n"
          ]
        },
        {
          "output_type": "execute_result",
          "data": {
            "text/plain": [
              "True"
            ]
          },
          "metadata": {},
          "execution_count": 2
        }
      ]
    },
    {
      "cell_type": "code",
      "source": [
        "import csv\n",
        "import re\n",
        "from nltk import *\n",
        "from collections import Counter\n",
        "from nltk.corpus import stopwords\n",
        "\n",
        "\n",
        "# Open the csv file and read the rows into a list\n",
        "with open('tweet.csv', 'r', encoding='latin-1') as f:\n",
        "  reader = csv.reader(f)\n",
        "  rows = list(reader)\n",
        "\n",
        "# Get a list of English stop words\n",
        "stop_words = stopwords.words('english')\n",
        "\n",
        "def most_common_words(hashtag):\n",
        "  # Extract all the words from the tweets that contain the hashtag\n",
        "  words = []\n",
        "  for row in rows:\n",
        "      text = row[9]\n",
        "      if hashtag in text:\n",
        "        words += re.findall(r'\\b\\w+\\b', text) #Match only words that contain letters\n",
        "        #Remove stop words and numbers from the list of the words\n",
        "  words = [word for word in words if word.lower() not in stop_words and not word.isdigit() and word!=hashtag]\n",
        "  #Classify each word as an adjective, verb, or other type of word\n",
        "  pos_tags = pos_tag(words)\n",
        "  words = [word for (word, pos) in pos_tags if pos != 'JJ' and pos!= 'VB' and pos !='VBP' and not re.match(r'.*ing*$', word)]\n",
        "  #Count the frequency of each word\n",
        "  word_counts = Counter(words)\n",
        "  # Return the top three most common words and their counts\n",
        "  return word_counts.most_common(3)\n",
        "\n",
        "def accounts_using_hashtag(hashtag):\n",
        "  # Find the accounts that use the hashtag\n",
        "  accounts = []\n",
        "  for row in rows:\n",
        "      if len(row) > 10:\n",
        "        text = row[9]\n",
        "        if hashtag in text:\n",
        "          accounts.append(row[8])\n",
        "      else:\n",
        "      # Skip rows that do not have enough columns\n",
        "          continue\n",
        "  return accounts\n",
        "\n",
        "# Prompt the user to enter a hashtag\n",
        "hashtag = input(\"Enter the hashtag: \")\n",
        "# Remove the # symbol if it was included in the input\n",
        "hashtag = hashtag.replace(\"#\", \"\")\n",
        " \n",
        "# Call the first function and print the results\n",
        "results = most_common_words(hashtag)\n",
        "print(\"Three most repeated words:\")\n",
        "for word, count in results:\n",
        "  print(f\"{word}: {count}\")\n",
        "\n",
        "# Call the second function and print the list of accounts\n",
        "accounts = accounts_using_hashtag(hashtag)\n",
        "print(\"List of accounts:\")\n",
        "V=[]\n",
        "for account in accounts:\n",
        "  V.append(account)\n",
        "print(V)"
      ],
      "metadata": {
        "id": "C7uNwXdykg1C",
        "colab": {
          "base_uri": "https://localhost:8080/"
        },
        "outputId": "f97e9cd2-de13-4803-b54c-f80bec5fa211"
      },
      "execution_count": 6,
      "outputs": [
        {
          "output_type": "stream",
          "name": "stdout",
          "text": [
            "Enter the hashtag: math\n",
            "Three most repeated words:\n",
            "maths: 183\n",
            "tomorrow: 47\n",
            "test: 42\n",
            "List of accounts:\n",
            "['AAA_Amerah', 'AMcLame', 'Abcmsaj', 'Alessandraaaa', 'AlisonCroley', 'AmyTheFailWhale', 'AmyTheFailWhale', 'Angel_Christine', 'Anikainlondon', 'AntixOnline', 'ArielECullen', 'Arneenxx', 'AryIrigoyen', 'BabeNatasha', 'BarelySeeAtAll', 'BeccaxVipx', 'Beckyrudd', 'BetterisLittle', 'Brockaldersley', 'CarissaWee', 'CarlaaLOUISE', 'Ceiridwenn', 'Ceiridwenn', 'Chrissie217', 'DeklanScott', 'DetroitDetroit', 'Ditsychikdotcom', 'DrummerFrek', 'EMerhart', 'EmelyJv', 'Emm_aa', 'Estherlala', 'FancyFranzy', 'Felicia600', 'FletcherXo', 'Fraanx', 'FrannyM101', 'Fredrikkk', 'FuchsiaStiletto', 'GBOX85', 'Gabriella_Lee', 'Galiiit', 'GaryJ', 'Gayy_Retro', 'Geo_16_', 'Ginevra_Girl', 'GiulianaMasi', 'GoBulls13', 'HAYitsmarissa', 'Hanishi', 'Hanishi', 'HannahGx', 'HappyBoy11', 'HibaNick', 'HollieRCopson', 'ILYmieke', 'IPinthecorner', 'IamAbbyA', 'Iamhollyywood', 'IsaHilton', 'ItzherS0le', 'JCODrums', 'JaneHungOz', 'Jasminexoxo', 'JazzBANGER', 'JessieeeeeH', 'Jessiie92', 'Johnathan1707', 'JonnySayer', 'K2_is_my_prince', 'KatiePoulton', 'Katoooooo__', 'Killer_Keks', 'Laura6476', 'LauraJudd', 'LeNuage', 'Leanney_Ox', 'LenaaMari', 'Liebrarien', 'LikePhantoms', 'Lilayy', 'Lisabroad', 'Lissa_Me', 'LuckyxxStar', 'LucyMcFly', 'MAGGIECHICKEN', 'MSzLiiSA', 'Maayanc', 'MackAttack1993', 'Megalomaniakill', 'Meliciousx3', 'Meliciousx3', 'MikeTh3Man', 'Mike_Richer', 'Misa_Misa', 'MissSmiff09', 'MissXu', 'Missing_Lyrics', 'Movie_Luver', 'MusicISmyLOVER', 'MusicIsHealthy', 'Music_Monkee', 'NVaughn702', 'NVaughn702', 'NataliieeJayne', 'Neofish42', 'NeonParafan', 'P0150N0U5F15H', 'P0150N0U5F15H', 'PASTAnRiCE', 'Passa91', 'Pbearfox', 'Popsicle21', 'PurestLight', 'RAWRachael', 'RachMillhauser', 'RachMillhauser', 'RockChoy', 'Roxie009', 'Sam4God', 'Sam4God', 'SamwellxD', 'SariatheCat', 'SashaDiva', 'SavingAmalthea', 'Scath', 'Schnicklfritz', 'Shaheen94', 'ShanteC', 'Sialicious', 'Siz_Star', 'Skiingfreak77', 'Smiffys44', 'Smurfy222', 'SodaSipperzx3', 'Sophie_Davey', 'SpinningPistol', 'Squeeface', 'Starfish93', 'StellaKarameloh', 'StormClaudi', 'SwissBraveheart', 'TKJones', 'Tanith44', 'Tannie512', 'TashaMichelle14', 'TashaSpeed', 'TheAn5wer11', 'TheJackel92', 'VictoriaBugler', 'XxKaTeAnxX', 'Zeelicious1', '_Alicee', '_ncl', '_sophielouise', 'aaamy_', 'aanneeB', 'abbbbbbby', 'adamdailycom', 'aehammond', 'agusaguero', 'ailsanadya', 'alenamore', 'almostcool', 'alwayskate', 'ambermaishment', 'amrita_x', 'amyestrada', 'andr0092', 'andreatangg', 'angi19', 'angiekayz', 'anna_bananaxx', 'annafranke', 'anthers', 'arden_aubrey', 'arthur01022', 'ashbeee', 'ashleighbentley', 'ashleymilli', 'aussiemcflyfan', 'becci2708', 'beccibeccibecci', 'beckyhope', 'beckyhope', 'beckyhope', 'beckyhope', 'beerth', 'bejuska', 'bethanie11', 'bibibubut', 'blaurebell', 'bopeepsheep', 'bradlehdave', 'brainninja14', 'brandonXmichael', 'brettnet', 'brittyk7', 'bronteelizabeth', 'brooke_nicolex3', 'brookerzzz', 'buffsnowangel', 'caitlinrox1234', 'caitlinw13', 'candyrush', 'catchtheapple', 'charlie628', 'charlottealder', 'chazminee', 'chelseaheyy', 'cherishZQ', 'cloclo_', 'cloclo_', 'cmcnall', 'coldkaapi', 'courtneyjane_', 'crazysarsi', 'cwilliamsaz', 'dallo7', 'damagedscene', 'dawl83', 'daxterboy88', 'deannalynn15', 'desari', 'devonanne21', 'dizzybunny', 'djskive', 'dragonsinger57', 'drwhogurl', 'drwhogurl', 'eltonheartsyou', 'emaatwell', 'emmaluxton', 'ephram_', 'erinwarde', 'fakingserious', 'felicia_everitt', 'flexd', 'flexd', 'francbautista', 'francii_', 'gClauds', 'gatitabby', 'gemmastephens', 'gigarcia', 'gilesthurston', 'gnomeangel', 'gonc11', 'gookiexo', 'gossipgirl14_xo', 'gppetro', 'hahaloser', 'hanna_C', 'hannah_x', 'hannahfaulkes', 'hannahfaulkes', 'hayleyycampbell', 'hearts_xoxo', 'hellocuppycake', 'hellosascha', 'heynatasha', 'highonlove', 'hollyberry1996', 'hoychilda', 'hygienestudent', 'iLikefatkids', 'iamamusicfan', 'iamemilybitch', 'ifka_j', 'indithunder', 'irfana27', 'itsNaida', 'itsbethh', 'itsjuliobitch', 'jacquithomas', 'jadecactusjam', 'jadecactusjam', 'jakevin', 'jamesh_1993', 'jamiejenkins87', 'jayteabby', 'jbalderstone', 'jesshaswell', 'jesshui', 'jessjuvenilex', 'johnsgunn', 'josrox', 'julayyyy', 'kainaussie', 'karleexx', 'katem3', 'katementon', 'kathrynmurphy16', 'katieson', 'katrucia', 'kelsey_duryee', 'kendroboto', 'keren4562', 'kiarapop', 'kikotiger', 'killerannax', 'kimlyclarete', 'kittytangtang', 'kmegzz1', 'kristttv', 'kurzes94', 'kychieh', 'laalanthika', 'laannii', 'lari_hearts', 'last0pendoor', 'laura_2856', 'laurenbreslin', 'laurenvharrison', 'leanne1992', 'leannemelvin', 'leanrocks', 'lelro', 'lequartz', 'lewisking', 'liamsp', 'liljohnny323', 'lishannn', 'live_yush', 'lockyrulz', 'lorettak', 'lostluck', 'loubeejones', 'lucylucylu', 'lykagonzalez', 'mahhnigga', 'maimunaibrahim', 'majc25', 'manolis', 'mariakaffa', 'mariakaffa', 'masnagstn', 'mattbuchanan', 'mayax01', 'melz0812', 'mickymouse15', 'mielarrastia', 'mileytaylor', 'minisnare11', 'miraonthewall', 'misshuiying', 'mitamasan', 'mneylon', 'mom2munchkinz', 'mon1kah', 'musicjelly', 'mynameismelissa', 'nanettodxt', 'natalielealand', 'nessamarie101', 'nicolebernadett', 'nicolexoxo', 'nicolio', 'nikkix25', 'oh_its_kt', 'paigesalt', 'patrickbrennan9', 'pdonaghy', 'phevans', 'prinsezha', 'provokative', 'purexvanity', 'quinniesin', 'rachmerz', 'radcoremuch', 'rainbowpastels', 'raster', 'rawr_9', 'rebecca_iscool', 'rebecca_iscool', 'rubymaree', 'sabrina_solari', 'samchan_92', 'samchan_92', 'sanah_ahsan', 'sarahlovesmicky', 'sarraaahhhh', 'sashasjam', 'saveamanda', 'scampbell734', 'screamamyyfire', 'scuffles721', 'serah', 'shamoosey93', 'shamoosey93', 'shantskur', 'sheridansavage', 'sherzywerzy', 'solipsistic', 'sophieebaker', 'sophiesayswhat', 'sophz_x', 'spaceangel', 'stephdavidson', 'stephgugugu', 'stephoodle', 'stephybooZe', 'stuartma', 'surfygurlx', 'swimmingfishy', 'syuazimi', 'tajrahil20', 'tanyaaR', 'tanyaaR', 'tarynvonfabu', 'tashamclellan', 'theguiltyones', 'theguiltyones', 'thekelliejane', 'tickvg', 'tilleywilly', 'tisdaleweb', 'tnybutdangerous', 'tori456', 'trelllla', 'triner', 'ttaaniiaa', 'tubentiger', 'tubentiger', 'twilight_qotd', 'vanxiaoyi', 'veeinthesky', 'vivalaemily', 'wajiii', 'whatever_freak', 'winda_samakoen', 'wow_nK', 'xLelo44x', 'xMissNatashax', 'xStCox', 'xThessax', 'x_sal_x', 'xkacieee', 'xkathyxrocksx', 'xlilcutiepie', 'xoxDeannaxx', 'xox_liana_xox', 'yasminyaz', 'yon_quine_', 'yuvipanda', 'zebr0', 'zedee', 'zhaaanyong', 'zuratulzulkifli']\n"
          ]
        }
      ]
    },
    {
      "cell_type": "markdown",
      "metadata": {
        "id": "pFLVwIP4Ux4i"
      },
      "source": []
    }
  ],
  "metadata": {
    "colab": {
      "provenance": []
    },
    "kernelspec": {
      "display_name": "Python 3",
      "name": "python3"
    },
    "language_info": {
      "name": "python"
    }
  },
  "nbformat": 4,
  "nbformat_minor": 0
}